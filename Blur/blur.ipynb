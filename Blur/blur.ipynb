{
 "cells": [
  {
   "cell_type": "markdown",
   "id": "cd655937",
   "metadata": {},
   "source": [
    "ARKPLANA BLUR VE GÖRSEL EKLEME\n"
   ]
  },
  {
   "cell_type": "code",
   "execution_count": 2,
   "id": "ac621565",
   "metadata": {},
   "outputs": [],
   "source": [
    "import cv2\n",
    "import mediapipe as mp\n",
    "import numpy as np\n",
    "\n",
    "def live_background_replace(mode=0, background_path=None):\n",
    " \n",
    "\n",
    "\n",
    "    mp_selfie_segmentation = mp.solutions.selfie_segmentation\n",
    "    cap = cv2.VideoCapture(0)\n",
    "\n",
    "    # Arka plan görselini yükle (mode 1'de)\n",
    "    if mode == 1 and background_path:\n",
    "        bg_image = cv2.imread(background_path)\n",
    "        if bg_image is None:\n",
    "            print(\"❌ Arka plan görseli bulunamadı:\", background_path)\n",
    "            return\n",
    "    else:\n",
    "        bg_image = None\n",
    "\n",
    "    with mp_selfie_segmentation.SelfieSegmentation(model_selection=1) as selfie_segmentation:\n",
    "        while cap.isOpened():\n",
    "            success, frame = cap.read()\n",
    "            if not success:\n",
    "                break\n",
    "\n",
    "            frame = cv2.flip(frame, 1)  # Aynalı görünüm\n",
    "            h, w, _ = frame.shape\n",
    "\n",
    "            # Gerekirse arka plan resmini yeniden boyutlandır\n",
    "            if mode == 1 and bg_image is not None:\n",
    "                resized_bg = cv2.resize(bg_image, (w, h))\n",
    "\n",
    "            # Segmentasyon maskesi al\n",
    "            rgb_frame = cv2.cvtColor(frame, cv2.COLOR_BGR2RGB)\n",
    "            results = selfie_segmentation.process(rgb_frame)\n",
    "            mask = results.segmentation_mask\n",
    "            condition = mask > 0.5  # %50 üzeri kişi olarak kabul edilir\n",
    "\n",
    "            if mode == 0:\n",
    "                # Bulanıklaştırılmış arka plan\n",
    "                blurred = cv2.GaussianBlur(frame, (55, 55), 0)\n",
    "                output_image = np.where(condition[..., None], frame, blurred)\n",
    "\n",
    "            elif mode == 1 and bg_image is not None:\n",
    "                # Arka planı resimle değiştir\n",
    "                output_image = np.where(condition[..., None], frame, resized_bg)\n",
    "\n",
    "            else:\n",
    "                output_image = frame  # Her ihtimale karşı orijinal kareyi göster\n",
    "\n",
    "            cv2.imshow(\"Kamera - Arka Plan Uygulama\", output_image)\n",
    "\n",
    "            if cv2.waitKey(1) & 0xFF == ord('q'):\n",
    "                break\n",
    "\n",
    "    cap.release()\n",
    "    cv2.destroyAllWindows()\n"
   ]
  },
  {
   "cell_type": "code",
   "execution_count": 4,
   "id": "8d6728c6",
   "metadata": {},
   "outputs": [],
   "source": [
    "live_background_replace(mode=0)\n"
   ]
  },
  {
   "cell_type": "code",
   "execution_count": null,
   "id": "7ca14332",
   "metadata": {},
   "outputs": [],
   "source": []
  }
 ],
 "metadata": {
  "kernelspec": {
   "display_name": "base",
   "language": "python",
   "name": "python3"
  },
  "language_info": {
   "codemirror_mode": {
    "name": "ipython",
    "version": 3
   },
   "file_extension": ".py",
   "mimetype": "text/x-python",
   "name": "python",
   "nbconvert_exporter": "python",
   "pygments_lexer": "ipython3",
   "version": "3.12.3"
  }
 },
 "nbformat": 4,
 "nbformat_minor": 5
}
